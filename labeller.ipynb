{
 "cells": [
  {
   "cell_type": "code",
   "execution_count": 1,
   "id": "105e1f0c",
   "metadata": {},
   "outputs": [],
   "source": [
    "# From documentation at https://github.com/dennisbakhuis/pigeonXT\n",
    "import pandas as pd\n",
    "import numpy as np\n",
    "\n",
    "from pathlib import Path\n",
    "from pigeonXT import annotate\n",
    "from IPython.display import display, Image\n",
    "\n",
    "labels = [\"background\",'eucalyptus',\"tree\"]"
   ]
  },
  {
   "cell_type": "code",
   "execution_count": 2,
   "id": "434fe1bc",
   "metadata": {},
   "outputs": [],
   "source": [
    "pd.read_csv(\"classifier_output.csv\",header=None).rename(columns={0:\"filename\",1:\"predicted\"})[\"filename\"].to_csv(\"filenames.csv\")"
   ]
  },
  {
   "cell_type": "code",
   "execution_count": 3,
   "id": "b3ae5c94",
   "metadata": {},
   "outputs": [],
   "source": [
    "def labelPortion(\n",
    "    inputFile, \n",
    "    labels = ['yes', 'no'], \n",
    "    outputFile='output.csv', \n",
    "    portionSize=10,\n",
    "    textColumn='filename',\n",
    "):\n",
    "   \n",
    "    out = Path(outputFile)\n",
    "    if out.exists():\n",
    "        outdf = pd.read_csv(out)\n",
    "        currentId = outdf.index.max() + 1\n",
    "    else:\n",
    "        currentId = 0\n",
    "\n",
    "    indf = pd.read_csv(inputFile)\n",
    "    examplesInFile = len(indf)\n",
    "    indf = indf.loc[currentId:currentId + portionSize - 1]\n",
    "    actualPortionSize = len(indf)\n",
    "    print(f'{currentId + 1} - {currentId + actualPortionSize} of {examplesInFile}')\n",
    "    sentences = indf[textColumn].tolist()\n",
    "\n",
    "    indf[\"label\"]=None\n",
    "\n",
    "    def updateRow(example, label):\n",
    "        print(example, label)\n",
    "        #labs = setLabels([labels.index(y) for y in selectedLabels], len(labels))\n",
    "        #indf.loc[indf[textColumn] == example, shortLabels] = labs\n",
    "        indf.loc[indf[textColumn] == example, \"label\"] = label\n",
    "\n",
    "    def finalProcessing(annotations):\n",
    "        if out.exists():\n",
    "            prevdata = pd.read_csv(out)\n",
    "            outdata = pd.concat([prevdata, indf]).reset_index(drop=True)\n",
    "        else:\n",
    "            outdata = indf.copy()\n",
    "        outdata.to_csv(out, index=False)\n",
    "        \n",
    "    def displayFunction(filename):\n",
    "        print(filename)\n",
    "        display(Image(\"/Users/nagrawal/Documents/SmartPrimer/Smart Primer User Testing Location Photos/\" + filename))\n",
    "\n",
    "    annotated = annotate( \n",
    "        sentences, \n",
    "        options=labels, \n",
    "        buttons_in_a_row=3,\n",
    "        reset_buttons_after_click=True,\n",
    "        include_next=False,\n",
    "        example_process_fn=updateRow,\n",
    "        final_process_fn=finalProcessing,\n",
    "        display_fn=displayFunction\n",
    "    )     \n",
    "    return indf\n"
   ]
  },
  {
   "cell_type": "code",
   "execution_count": 26,
   "id": "f7a7316a",
   "metadata": {},
   "outputs": [
    {
     "name": "stdout",
     "output_type": "stream",
     "text": [
      "501 - 510 of 514\n"
     ]
    },
    {
     "data": {
      "application/vnd.jupyter.widget-view+json": {
       "model_id": "2666de4a980b438eacef31c22d749b71",
       "version_major": 2,
       "version_minor": 0
      },
      "text/plain": [
       "HTML(value='0 of 10 Examples annotated, Current Position: 0 ')"
      ]
     },
     "metadata": {},
     "output_type": "display_data"
    },
    {
     "data": {
      "application/vnd.jupyter.widget-view+json": {
       "model_id": "427fd9ed754a415db7233f0eb1a71251",
       "version_major": 2,
       "version_minor": 0
      },
      "text/plain": [
       "VBox(children=(HBox(children=(Button(description='background', style=ButtonStyle()), Button(description='eucal…"
      ]
     },
     "metadata": {},
     "output_type": "display_data"
    },
    {
     "data": {
      "application/vnd.jupyter.widget-view+json": {
       "model_id": "0dcd096780a448f19b7b7736e9647d79",
       "version_major": 2,
       "version_minor": 0
      },
      "text/plain": [
       "Output()"
      ]
     },
     "metadata": {},
     "output_type": "display_data"
    },
    {
     "name": "stdout",
     "output_type": "stream",
     "text": [
      "PXL_20220608_190259592.jpg tree\n",
      "PXL_20220608_191928690.jpg tree\n"
     ]
    }
   ],
   "source": [
    "annotations = labelPortion('filenames.csv',\n",
    "                            labels=labels)"
   ]
  },
  {
   "cell_type": "code",
   "execution_count": 10,
   "id": "cde3a1ed",
   "metadata": {},
   "outputs": [
    {
     "data": {
      "text/html": [
       "<div>\n",
       "<style scoped>\n",
       "    .dataframe tbody tr th:only-of-type {\n",
       "        vertical-align: middle;\n",
       "    }\n",
       "\n",
       "    .dataframe tbody tr th {\n",
       "        vertical-align: top;\n",
       "    }\n",
       "\n",
       "    .dataframe thead th {\n",
       "        text-align: right;\n",
       "    }\n",
       "</style>\n",
       "<table border=\"1\" class=\"dataframe\">\n",
       "  <thead>\n",
       "    <tr style=\"text-align: right;\">\n",
       "      <th></th>\n",
       "      <th>Unnamed: 0</th>\n",
       "      <th>filename</th>\n",
       "      <th>label</th>\n",
       "    </tr>\n",
       "  </thead>\n",
       "  <tbody>\n",
       "    <tr>\n",
       "      <th>0</th>\n",
       "      <td>0</td>\n",
       "      <td>PXL_20220608_193212390.jpg</td>\n",
       "      <td>eucalyptus</td>\n",
       "    </tr>\n",
       "    <tr>\n",
       "      <th>1</th>\n",
       "      <td>1</td>\n",
       "      <td>PXL_20220608_191013698.jpg</td>\n",
       "      <td>eucalyptus</td>\n",
       "    </tr>\n",
       "    <tr>\n",
       "      <th>2</th>\n",
       "      <td>2</td>\n",
       "      <td>PXL_20220608_192248412.jpg</td>\n",
       "      <td>background</td>\n",
       "    </tr>\n",
       "    <tr>\n",
       "      <th>3</th>\n",
       "      <td>3</td>\n",
       "      <td>PXL_20220608_192133742.jpg</td>\n",
       "      <td>eucalyptus</td>\n",
       "    </tr>\n",
       "    <tr>\n",
       "      <th>4</th>\n",
       "      <td>4</td>\n",
       "      <td>PXL_20220608_191249506.jpg</td>\n",
       "      <td>background</td>\n",
       "    </tr>\n",
       "    <tr>\n",
       "      <th>...</th>\n",
       "      <td>...</td>\n",
       "      <td>...</td>\n",
       "      <td>...</td>\n",
       "    </tr>\n",
       "    <tr>\n",
       "      <th>275</th>\n",
       "      <td>275</td>\n",
       "      <td>PXL_20220608_190713408.jpg</td>\n",
       "      <td>tree</td>\n",
       "    </tr>\n",
       "    <tr>\n",
       "      <th>276</th>\n",
       "      <td>276</td>\n",
       "      <td>PXL_20220608_191330469.jpg</td>\n",
       "      <td>tree</td>\n",
       "    </tr>\n",
       "    <tr>\n",
       "      <th>277</th>\n",
       "      <td>277</td>\n",
       "      <td>PXL_20220608_190717083.jpg</td>\n",
       "      <td>tree</td>\n",
       "    </tr>\n",
       "    <tr>\n",
       "      <th>278</th>\n",
       "      <td>278</td>\n",
       "      <td>PXL_20220608_192816857.jpg</td>\n",
       "      <td>tree</td>\n",
       "    </tr>\n",
       "    <tr>\n",
       "      <th>279</th>\n",
       "      <td>279</td>\n",
       "      <td>PXL_20220608_193356022.jpg</td>\n",
       "      <td>eucalyptus</td>\n",
       "    </tr>\n",
       "  </tbody>\n",
       "</table>\n",
       "<p>280 rows × 3 columns</p>\n",
       "</div>"
      ],
      "text/plain": [
       "     Unnamed: 0                    filename       label\n",
       "0             0  PXL_20220608_193212390.jpg  eucalyptus\n",
       "1             1  PXL_20220608_191013698.jpg  eucalyptus\n",
       "2             2  PXL_20220608_192248412.jpg  background\n",
       "3             3  PXL_20220608_192133742.jpg  eucalyptus\n",
       "4             4  PXL_20220608_191249506.jpg  background\n",
       "..          ...                         ...         ...\n",
       "275         275  PXL_20220608_190713408.jpg        tree\n",
       "276         276  PXL_20220608_191330469.jpg        tree\n",
       "277         277  PXL_20220608_190717083.jpg        tree\n",
       "278         278  PXL_20220608_192816857.jpg        tree\n",
       "279         279  PXL_20220608_193356022.jpg  eucalyptus\n",
       "\n",
       "[280 rows x 3 columns]"
      ]
     },
     "execution_count": 10,
     "metadata": {},
     "output_type": "execute_result"
    }
   ],
   "source": [
    "# peek at current state of output\n",
    "pd.read_csv(\"output.csv\")"
   ]
  },
  {
   "cell_type": "code",
   "execution_count": 99,
   "id": "cf2c3347",
   "metadata": {},
   "outputs": [
    {
     "data": {
      "text/html": [
       "<div>\n",
       "<style scoped>\n",
       "    .dataframe tbody tr th:only-of-type {\n",
       "        vertical-align: middle;\n",
       "    }\n",
       "\n",
       "    .dataframe tbody tr th {\n",
       "        vertical-align: top;\n",
       "    }\n",
       "\n",
       "    .dataframe thead th {\n",
       "        text-align: right;\n",
       "    }\n",
       "</style>\n",
       "<table border=\"1\" class=\"dataframe\">\n",
       "  <thead>\n",
       "    <tr style=\"text-align: right;\">\n",
       "      <th></th>\n",
       "      <th>filename</th>\n",
       "      <th>1</th>\n",
       "    </tr>\n",
       "  </thead>\n",
       "  <tbody>\n",
       "    <tr>\n",
       "      <th>219</th>\n",
       "      <td>PXL_20220608_190704025.jpg</td>\n",
       "      <td>eucalyptus</td>\n",
       "    </tr>\n",
       "  </tbody>\n",
       "</table>\n",
       "</div>"
      ],
      "text/plain": [
       "                       filename           1\n",
       "219  PXL_20220608_190704025.jpg  eucalyptus"
      ]
     },
     "execution_count": 99,
     "metadata": {},
     "output_type": "execute_result"
    }
   ],
   "source": [
    "# peek at the classifier outputs by replacing the filename in this cell \n",
    "# to get an idea of the errors\n",
    "df = pd.read_csv(\"classifier_output.csv\",header=None).rename(columns={0:\"filename\"})\n",
    "df.loc[df.filename == \"PXL_20220608_190704025.jpg\"]"
   ]
  },
  {
   "cell_type": "code",
   "execution_count": null,
   "id": "db4e585c",
   "metadata": {},
   "outputs": [],
   "source": []
  }
 ],
 "metadata": {
  "kernelspec": {
   "display_name": "Python 3 (ipykernel)",
   "language": "python",
   "name": "python3"
  },
  "language_info": {
   "codemirror_mode": {
    "name": "ipython",
    "version": 3
   },
   "file_extension": ".py",
   "mimetype": "text/x-python",
   "name": "python",
   "nbconvert_exporter": "python",
   "pygments_lexer": "ipython3",
   "version": "3.9.12"
  }
 },
 "nbformat": 4,
 "nbformat_minor": 5
}
