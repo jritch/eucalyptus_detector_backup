{
 "cells": [
  {
   "cell_type": "code",
   "execution_count": null,
   "id": "cf3a47be",
   "metadata": {},
   "outputs": [],
   "source": [
    "import pandas as pd\n",
    "import numpy as np\n",
    "#from IPython.display import display, Image\n",
    "from PIL import Image\n",
    "import matplotlib.pyplot as plt\n",
    "import math"
   ]
  },
  {
   "cell_type": "code",
   "execution_count": null,
   "id": "42b248d4",
   "metadata": {},
   "outputs": [],
   "source": [
    "prediction_df = pd.read_csv(\"classifier_output_v3.csv\",header=None).rename(columns={0:\"filename\",1:\"prediction\"})\n",
    "ground_truth_df = pd.read_csv(\"output.csv\")"
   ]
  },
  {
   "cell_type": "code",
   "execution_count": null,
   "id": "5f632b0f",
   "metadata": {},
   "outputs": [],
   "source": [
    "df = ground_truth_df.set_index(\"filename\").join(prediction_df.set_index(\"filename\")).reset_index()"
   ]
  },
  {
   "cell_type": "code",
   "execution_count": null,
   "id": "f66a4493",
   "metadata": {},
   "outputs": [],
   "source": [
    "def crop_image(img):\n",
    "    pass\n",
    "\n",
    "def get_image_from_filename(filename):\n",
    "    return np.asarray(Image.open(\"/Users/ritchie/Downloads/Smart Primer User Testing Location Photos/\" + filename))\n",
    "\n",
    "def show_images(data,label_name,prediction_name):\n",
    "    filenames = df.query('label==\"{}\" and prediction==\"{}\"'.format(label_name,prediction_name))[\"filename\"]\n",
    "    \n",
    "    x = math.ceil(math.sqrt(len(filenames)))\n",
    "    \n",
    "    fig, axes = plt.subplots(nrows=x, ncols=x, figsize=(100,150))\n",
    "    \n",
    "    #axes[0][0].imshow(get_image_from_filename(filenames.iloc[0]))\n",
    "    #axes[0][0].axis(\"off\")\n",
    "                      \n",
    "    for i in range(len(filenames)):\n",
    "        axes[i//x][i%x].imshow(get_image_from_filename(filenames.iloc[i]))\n",
    "        axes[i//x][i%x].axis(\"off\")\n",
    " \n",
    "    fig.tight_layout()\n",
    "    fig.savefig(\"{}_predicted_as_{}.pdf\".format(label_name,prediction_name))    \n",
    "    return \n",
    "\n",
    "for label_1 in [\"eucalyptus\"]:\n",
    "    for label_2 in [\"eucalyptus\"]:\n",
    "        show_images(df,label_1,label_2)"
   ]
  },
  {
   "cell_type": "code",
   "execution_count": null,
   "id": "3178d231",
   "metadata": {},
   "outputs": [],
   "source": [
    "from sklearn.metrics import confusion_matrix, classification_report\n",
    "from sklearn.metrics import ConfusionMatrixDisplay\n",
    "plt.imshow(confusion_matrix(df[\"label\"],df[\"prediction\"]))\n",
    "c_m = confusion_matrix(df[\"label\"],df[\"prediction\"],labels=[\"background\",'eucalyptus',\"tree\"])\n",
    "ConfusionMatrixDisplay(c_m, display_labels=[\"background\",'eucalyptus',\"tree\"])\n",
    "print(c_m)\n",
    "print(classification_report(df[\"label\"],df[\"prediction\"]))"
   ]
  },
  {
   "cell_type": "code",
   "execution_count": null,
   "id": "62efea99",
   "metadata": {},
   "outputs": [],
   "source": [
    "df.query('label==\"background\" and prediction==\"eucalyptus\"')[\"filename\"]"
   ]
  }
 ],
 "metadata": {
  "interpreter": {
   "hash": "b57ddd98d236ea685d181c0d26d8e52a655fc3078115c333b8d4c03fe825e1c4"
  },
  "kernelspec": {
   "display_name": "Python 3.9.12 ('tree-detector')",
   "language": "python",
   "name": "python3"
  },
  "language_info": {
   "codemirror_mode": {
    "name": "ipython",
    "version": 3
   },
   "file_extension": ".py",
   "mimetype": "text/x-python",
   "name": "python",
   "nbconvert_exporter": "python",
   "pygments_lexer": "ipython3",
   "version": "3.9.12"
  }
 },
 "nbformat": 4,
 "nbformat_minor": 5
}
